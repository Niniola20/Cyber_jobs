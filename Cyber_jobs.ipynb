{
  "nbformat": 4,
  "nbformat_minor": 0,
  "metadata": {
    "colab": {
      "name": "Cyber_jobs.ipynb",
      "provenance": [],
      "authorship_tag": "ABX9TyPySm+OoToWaT178QdalFsb",
      "include_colab_link": true
    },
    "kernelspec": {
      "name": "python3",
      "display_name": "Python 3"
    },
    "language_info": {
      "name": "python"
    }
  },
  "cells": [
    {
      "cell_type": "markdown",
      "metadata": {
        "id": "view-in-github",
        "colab_type": "text"
      },
      "source": [
        "<a href=\"https://colab.research.google.com/github/Niniola20/Cyber_jobs/blob/main/Cyber_jobs.ipynb\" target=\"_parent\"><img src=\"https://colab.research.google.com/assets/colab-badge.svg\" alt=\"Open In Colab\"/></a>"
      ]
    },
    {
      "cell_type": "markdown",
      "metadata": {
        "id": "5TMQ0kyOWPft"
      },
      "source": [
        "#Introduction\n",
        "\n",
        "This data set is used to show that entry level cybesecurity job gaps in the United States. This data shows the demand of cybersecurity in both public and private sectors. The data calculates the geographic concentration and supply of cybersecurity workers. These are used to gives viewers an understanding of the gap in cybersecurity in different locations in the United States. The website inwhich this information was gotten is by Cyberseek and is an interactive map that can also be additionally utilized by users to gain more information on this topic. In the dataset, we have information on. :\n",
        "\n",
        "1. State\n",
        "2. Social job sector.\n",
        "3. Total job openings: Shows the online listing of cyberscueity jobs from March 2020- April 2021.\n",
        "4. Geographic Concentration:Concentration of cybersecurity job demand in a certain location. The national average is 1. \n",
        "5. Supply of cybersecurity workers: Comparison of currently employed cybersecurity workers relative to demand per location. The national average is 3.8 and cybersecurity average is 2.1.\n",
        "6. Total employed cybersecurity workforce: Shows the number of workers employed in cybersecurity related jobs from March 2020- April 2021.\n"
      ]
    },
    {
      "cell_type": "code",
      "metadata": {
        "id": "BVQETfTPWFCm"
      },
      "source": [
        "%matplotlib inline\n",
        "import pandas as pd\n",
        "import seaborn as sns\n",
        "import matplotlib.pyplot as plt\n",
        "import os \n",
        "import numpy as np\n",
        "from sklearn.cluster import KMeans\n",
        "from sklearn.preprocessing import LabelEncoder\n",
        "import matplotlib as mpl"
      ],
      "execution_count": 95,
      "outputs": []
    },
    {
      "cell_type": "markdown",
      "metadata": {
        "id": "332eSo0WWJ51"
      },
      "source": [
        "#Reading CSV file from directory"
      ]
    },
    {
      "cell_type": "code",
      "metadata": {
        "id": "0rxa7PDXWN4e"
      },
      "source": [
        "Cyber_jobs=pd.read_excel(\"Cyber_jobs.xlsx\")"
      ],
      "execution_count": 96,
      "outputs": []
    },
    {
      "cell_type": "markdown",
      "metadata": {
        "id": "UEMX1roEWk0v"
      },
      "source": [
        "#Listing directory"
      ]
    },
    {
      "cell_type": "code",
      "metadata": {
        "colab": {
          "base_uri": "https://localhost:8080/"
        },
        "id": "rmGSmcThWpNt",
        "outputId": "dbfefc84-6a0f-4be4-8253-9cedb0489cd1"
      },
      "source": [
        "os.listdir(\".\")"
      ],
      "execution_count": 97,
      "outputs": [
        {
          "output_type": "execute_result",
          "data": {
            "text/plain": [
              "['.config', '.ipynb_checkpoints', 'Cyber_jobs.xlsx', 'sample_data']"
            ]
          },
          "metadata": {},
          "execution_count": 97
        }
      ]
    },
    {
      "cell_type": "markdown",
      "metadata": {
        "id": "E6XGp6tzWx1V"
      },
      "source": [
        "#Displaying data set"
      ]
    },
    {
      "cell_type": "code",
      "metadata": {
        "colab": {
          "base_uri": "https://localhost:8080/",
          "height": 313
        },
        "id": "kihzGj_zW2jn",
        "outputId": "51a2e460-3d04-4e4a-de9a-2ba184f1e188"
      },
      "source": [
        "Cyber_jobs.head()"
      ],
      "execution_count": 98,
      "outputs": [
        {
          "output_type": "execute_result",
          "data": {
            "text/html": [
              "<div>\n",
              "<style scoped>\n",
              "    .dataframe tbody tr th:only-of-type {\n",
              "        vertical-align: middle;\n",
              "    }\n",
              "\n",
              "    .dataframe tbody tr th {\n",
              "        vertical-align: top;\n",
              "    }\n",
              "\n",
              "    .dataframe thead th {\n",
              "        text-align: right;\n",
              "    }\n",
              "</style>\n",
              "<table border=\"1\" class=\"dataframe\">\n",
              "  <thead>\n",
              "    <tr style=\"text-align: right;\">\n",
              "      <th></th>\n",
              "      <th>State</th>\n",
              "      <th>Country Intial</th>\n",
              "      <th>All private and public sector data</th>\n",
              "      <th>Total job openings</th>\n",
              "      <th>Geographic need for cybersecurity employees per Concentration</th>\n",
              "      <th>Geographic ratio</th>\n",
              "      <th>Supply of cybersecurity workers</th>\n",
              "      <th>Supply/demand ratio</th>\n",
              "      <th>Total employescyberscueity workforce</th>\n",
              "    </tr>\n",
              "  </thead>\n",
              "  <tbody>\n",
              "    <tr>\n",
              "      <th>0</th>\n",
              "      <td>Washington</td>\n",
              "      <td>WA</td>\n",
              "      <td>Yes</td>\n",
              "      <td>9953</td>\n",
              "      <td>1.4</td>\n",
              "      <td>High</td>\n",
              "      <td>2.4</td>\n",
              "      <td>Very Low</td>\n",
              "      <td>24190</td>\n",
              "    </tr>\n",
              "    <tr>\n",
              "      <th>1</th>\n",
              "      <td>Oregon</td>\n",
              "      <td>OR</td>\n",
              "      <td>Yes</td>\n",
              "      <td>3998</td>\n",
              "      <td>1.2</td>\n",
              "      <td>Average</td>\n",
              "      <td>2.3</td>\n",
              "      <td>Very Low</td>\n",
              "      <td>9366</td>\n",
              "    </tr>\n",
              "    <tr>\n",
              "      <th>2</th>\n",
              "      <td>California</td>\n",
              "      <td>CA</td>\n",
              "      <td>Yes</td>\n",
              "      <td>55487</td>\n",
              "      <td>1.2</td>\n",
              "      <td>Average</td>\n",
              "      <td>1.8</td>\n",
              "      <td>Very Low</td>\n",
              "      <td>102431</td>\n",
              "    </tr>\n",
              "    <tr>\n",
              "      <th>3</th>\n",
              "      <td>Nevada</td>\n",
              "      <td>NV</td>\n",
              "      <td>Yes</td>\n",
              "      <td>2505</td>\n",
              "      <td>1.4</td>\n",
              "      <td>High</td>\n",
              "      <td>1.8</td>\n",
              "      <td>Very Low</td>\n",
              "      <td>4434</td>\n",
              "    </tr>\n",
              "    <tr>\n",
              "      <th>4</th>\n",
              "      <td>Idaho</td>\n",
              "      <td>ID</td>\n",
              "      <td>Yes</td>\n",
              "      <td>1720</td>\n",
              "      <td>1.8</td>\n",
              "      <td>Very High</td>\n",
              "      <td>2.4</td>\n",
              "      <td>Very Low</td>\n",
              "      <td>4195</td>\n",
              "    </tr>\n",
              "  </tbody>\n",
              "</table>\n",
              "</div>"
            ],
            "text/plain": [
              "       State   ... Total employescyberscueity workforce\n",
              "0  Washington  ...                                24190\n",
              "1      Oregon  ...                                 9366\n",
              "2  California  ...                               102431\n",
              "3      Nevada  ...                                 4434\n",
              "4       Idaho  ...                                 4195\n",
              "\n",
              "[5 rows x 9 columns]"
            ]
          },
          "metadata": {},
          "execution_count": 98
        }
      ]
    },
    {
      "cell_type": "markdown",
      "metadata": {
        "id": "PKz5GiohXKmO"
      },
      "source": [
        "#Renaming Columns"
      ]
    },
    {
      "cell_type": "code",
      "metadata": {
        "colab": {
          "base_uri": "https://localhost:8080/",
          "height": 243
        },
        "id": "WPuRbpa6bIDA",
        "outputId": "00d5ea1e-0356-4a87-df74-e6703556d843"
      },
      "source": [
        "Cyber_jobs.rename(columns={\"All private and public sector data\":\"private/public sector\", \"Total job openings\": \"Job openings\", \"Geographic need for cybersecurity employees per Concentration\": \"Geo_cybersec_need\",\"Geographic ratio\": \"Geo_ratio\",\"Supply of cybersecurity workers\": \"Worker Supply\", \"Total employescyberscueity workforce\": \"Currently employed\"}, inplace = True)\n",
        "Cyber_jobs.head()"
      ],
      "execution_count": 99,
      "outputs": [
        {
          "output_type": "execute_result",
          "data": {
            "text/html": [
              "<div>\n",
              "<style scoped>\n",
              "    .dataframe tbody tr th:only-of-type {\n",
              "        vertical-align: middle;\n",
              "    }\n",
              "\n",
              "    .dataframe tbody tr th {\n",
              "        vertical-align: top;\n",
              "    }\n",
              "\n",
              "    .dataframe thead th {\n",
              "        text-align: right;\n",
              "    }\n",
              "</style>\n",
              "<table border=\"1\" class=\"dataframe\">\n",
              "  <thead>\n",
              "    <tr style=\"text-align: right;\">\n",
              "      <th></th>\n",
              "      <th>State</th>\n",
              "      <th>Country Intial</th>\n",
              "      <th>private/public sector</th>\n",
              "      <th>Job openings</th>\n",
              "      <th>Geo_cybersec_need</th>\n",
              "      <th>Geo_ratio</th>\n",
              "      <th>Worker Supply</th>\n",
              "      <th>Supply/demand ratio</th>\n",
              "      <th>Currently employed</th>\n",
              "    </tr>\n",
              "  </thead>\n",
              "  <tbody>\n",
              "    <tr>\n",
              "      <th>0</th>\n",
              "      <td>Washington</td>\n",
              "      <td>WA</td>\n",
              "      <td>Yes</td>\n",
              "      <td>9953</td>\n",
              "      <td>1.4</td>\n",
              "      <td>High</td>\n",
              "      <td>2.4</td>\n",
              "      <td>Very Low</td>\n",
              "      <td>24190</td>\n",
              "    </tr>\n",
              "    <tr>\n",
              "      <th>1</th>\n",
              "      <td>Oregon</td>\n",
              "      <td>OR</td>\n",
              "      <td>Yes</td>\n",
              "      <td>3998</td>\n",
              "      <td>1.2</td>\n",
              "      <td>Average</td>\n",
              "      <td>2.3</td>\n",
              "      <td>Very Low</td>\n",
              "      <td>9366</td>\n",
              "    </tr>\n",
              "    <tr>\n",
              "      <th>2</th>\n",
              "      <td>California</td>\n",
              "      <td>CA</td>\n",
              "      <td>Yes</td>\n",
              "      <td>55487</td>\n",
              "      <td>1.2</td>\n",
              "      <td>Average</td>\n",
              "      <td>1.8</td>\n",
              "      <td>Very Low</td>\n",
              "      <td>102431</td>\n",
              "    </tr>\n",
              "    <tr>\n",
              "      <th>3</th>\n",
              "      <td>Nevada</td>\n",
              "      <td>NV</td>\n",
              "      <td>Yes</td>\n",
              "      <td>2505</td>\n",
              "      <td>1.4</td>\n",
              "      <td>High</td>\n",
              "      <td>1.8</td>\n",
              "      <td>Very Low</td>\n",
              "      <td>4434</td>\n",
              "    </tr>\n",
              "    <tr>\n",
              "      <th>4</th>\n",
              "      <td>Idaho</td>\n",
              "      <td>ID</td>\n",
              "      <td>Yes</td>\n",
              "      <td>1720</td>\n",
              "      <td>1.8</td>\n",
              "      <td>Very High</td>\n",
              "      <td>2.4</td>\n",
              "      <td>Very Low</td>\n",
              "      <td>4195</td>\n",
              "    </tr>\n",
              "  </tbody>\n",
              "</table>\n",
              "</div>"
            ],
            "text/plain": [
              "       State  Country Intial  ... Supply/demand ratio  Currently employed\n",
              "0  Washington             WA  ...            Very Low               24190\n",
              "1      Oregon             OR  ...            Very Low                9366\n",
              "2  California             CA  ...            Very Low              102431\n",
              "3      Nevada             NV  ...            Very Low                4434\n",
              "4       Idaho             ID  ...            Very Low                4195\n",
              "\n",
              "[5 rows x 9 columns]"
            ]
          },
          "metadata": {},
          "execution_count": 99
        }
      ]
    },
    {
      "cell_type": "markdown",
      "metadata": {
        "id": "GX3goqJ3cFjq"
      },
      "source": [
        "#Data types"
      ]
    },
    {
      "cell_type": "code",
      "metadata": {
        "id": "gUyH8jAZcHIQ",
        "colab": {
          "base_uri": "https://localhost:8080/"
        },
        "outputId": "0ec7a07d-eb93-4473-b9c9-7bbaa4687524"
      },
      "source": [
        "Cyber_jobs.dtypes"
      ],
      "execution_count": 100,
      "outputs": [
        {
          "output_type": "execute_result",
          "data": {
            "text/plain": [
              "State                     object\n",
              "Country Intial            object\n",
              "private/public sector     object\n",
              "Job openings               int64\n",
              "Geo_cybersec_need        float64\n",
              "Geo_ratio                 object\n",
              "Worker Supply            float64\n",
              "Supply/demand ratio       object\n",
              "Currently employed         int64\n",
              "dtype: object"
            ]
          },
          "metadata": {},
          "execution_count": 100
        }
      ]
    },
    {
      "cell_type": "markdown",
      "metadata": {
        "id": "Q0bwuT6l5HD9"
      },
      "source": [
        "#Show how columns relate \n",
        "*Relation between Job openings and Worker supply. This association shows the employment gap in cybersecurity. With the scatter plot, we are able to see how many people whose experince can be categorized as entry level experince have actually gained employment. We can see that less than 10,000 job openings have been filled. From the definition of the Supply of cybersecurity workers given above. we can also see that this is mostly average from the scatter plot. The definition states 2.1 as the average for cybersecurity. From the scatter plot, we see a concentration around 2-3. Which signifies that Supply of workers falls under average and the amount of job openings filled falls under 10,000. Note, you can also interpret this data based on perception but following the rules associated with Job openings and Worker supply*"
      ]
    },
    {
      "cell_type": "code",
      "metadata": {
        "colab": {
          "base_uri": "https://localhost:8080/",
          "height": 496
        },
        "id": "tqva14RCmMXf",
        "outputId": "26003d3a-f360-45b2-9f34-c5e976777eb4"
      },
      "source": [
        "sns.jointplot(\"Job openings\", \"Worker Supply\", data=Cyber_jobs, kind='reg');\n",
        "plt.show()"
      ],
      "execution_count": 128,
      "outputs": [
        {
          "output_type": "stream",
          "name": "stderr",
          "text": [
            "/usr/local/lib/python3.7/dist-packages/seaborn/_decorators.py:43: FutureWarning: Pass the following variables as keyword args: x, y. From version 0.12, the only valid positional argument will be `data`, and passing other arguments without an explicit keyword will result in an error or misinterpretation.\n",
            "  FutureWarning\n"
          ]
        },
        {
          "output_type": "display_data",
          "data": {
            "image/png": "[encoded data removed]",
            "text/plain": [
              "<Figure size 432x432 with 3 Axes>"
            ]
          },
          "metadata": {
            "needs_background": "light"
          }
        }
      ]
    },
    {
      "cell_type": "markdown",
      "metadata": {
        "id": "3zp3XutuqJbm"
      },
      "source": [
        "*From the graph below, one can see that the concentration of currently employed cybersecurity workers and the need for workers based on geographic area are very disproportionate. This is also additional evidence showing that the gap in cybersecurity entry level jobs exits. We see that the concentration of people currently employed in cybersecurity are around 10,000- 20,000. Which is way lesser that what the market needs.*"
      ]
    },
    {
      "cell_type": "code",
      "metadata": {
        "colab": {
          "base_uri": "https://localhost:8080/",
          "height": 496
        },
        "id": "egSxv6EJpY2W",
        "outputId": "b3b43994-0c34-4e26-ba5f-5e7b2a7ae6e9"
      },
      "source": [
        "sns.jointplot(\"Currently employed\",\"Geo_cybersec_need\", data=Cyber_jobs, kind='reg');\n",
        "plt.show()"
      ],
      "execution_count": 131,
      "outputs": [
        {
          "output_type": "stream",
          "name": "stderr",
          "text": [
            "/usr/local/lib/python3.7/dist-packages/seaborn/_decorators.py:43: FutureWarning: Pass the following variables as keyword args: x, y. From version 0.12, the only valid positional argument will be `data`, and passing other arguments without an explicit keyword will result in an error or misinterpretation.\n",
            "  FutureWarning\n"
          ]
        },
        {
          "output_type": "display_data",
          "data": {
            "image/png": "[encoded data removed]",
            "text/plain": [
              "<Figure size 432x432 with 3 Axes>"
            ]
          },
          "metadata": {
            "needs_background": "light"
          }
        }
      ]
    },
    {
      "cell_type": "code",
      "metadata": {
        "id": "4Hx6m_aZo15d"
      },
      "source": [
        "g = sns.lmplot(\"Currently employed\",\"Geo_cybersec_need\", data=Cyber_jobs,\n",
        "               markers=\".\", scatter_kws=dict(color='c'))\n",
        "g.map(plt.axhline, y=0.1, color=\"k\", ls=\":\", );\n",
        "plt.show()"
      ],
      "execution_count": null,
      "outputs": []
    }
  ]
}